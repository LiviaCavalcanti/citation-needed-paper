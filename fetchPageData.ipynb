{
 "cells": [
  {
   "cell_type": "code",
   "execution_count": 2,
   "metadata": {},
   "outputs": [
    {
     "name": "stderr",
     "output_type": "stream",
     "text": [
      "Using TensorFlow backend.\n"
     ]
    }
   ],
   "source": [
    "import wikipediaapi\n",
    "import nltk\n",
    "import pickle \n",
    "import numpy as np\n",
    "from keras.preprocessing.sequence import pad_sequences\n",
    "from keras.models import load_model\n",
    "\n",
    "# nltk.download('punkt') # at first run\n",
    "sent_detector = nltk.data.load('tokenizers/punkt/english.pickle')\n",
    "\n",
    "wiki_wiki = wikipediaapi.Wikipedia(\n",
    "        language='en',\n",
    "        extract_format=wikipediaapi.ExtractFormat.WIKI\n",
    ")"
   ]
  },
  {
   "cell_type": "code",
   "execution_count": 1,
   "metadata": {},
   "outputs": [
    {
     "name": "stderr",
     "output_type": "stream",
     "text": [
      "/home/livia/citation-needed-paper/venv/lib/python3.5/site-packages/tensorflow/python/framework/dtypes.py:517: FutureWarning: Passing (type, 1) or '1type' as a synonym of type is deprecated; in a future version of numpy, it will be understood as (type, (1,)) / '(1,)type'.\n",
      "  _np_qint8 = np.dtype([(\"qint8\", np.int8, 1)])\n",
      "/home/livia/citation-needed-paper/venv/lib/python3.5/site-packages/tensorflow/python/framework/dtypes.py:518: FutureWarning: Passing (type, 1) or '1type' as a synonym of type is deprecated; in a future version of numpy, it will be understood as (type, (1,)) / '(1,)type'.\n",
      "  _np_quint8 = np.dtype([(\"quint8\", np.uint8, 1)])\n",
      "/home/livia/citation-needed-paper/venv/lib/python3.5/site-packages/tensorflow/python/framework/dtypes.py:519: FutureWarning: Passing (type, 1) or '1type' as a synonym of type is deprecated; in a future version of numpy, it will be understood as (type, (1,)) / '(1,)type'.\n",
      "  _np_qint16 = np.dtype([(\"qint16\", np.int16, 1)])\n",
      "/home/livia/citation-needed-paper/venv/lib/python3.5/site-packages/tensorflow/python/framework/dtypes.py:520: FutureWarning: Passing (type, 1) or '1type' as a synonym of type is deprecated; in a future version of numpy, it will be understood as (type, (1,)) / '(1,)type'.\n",
      "  _np_quint16 = np.dtype([(\"quint16\", np.uint16, 1)])\n",
      "/home/livia/citation-needed-paper/venv/lib/python3.5/site-packages/tensorflow/python/framework/dtypes.py:521: FutureWarning: Passing (type, 1) or '1type' as a synonym of type is deprecated; in a future version of numpy, it will be understood as (type, (1,)) / '(1,)type'.\n",
      "  _np_qint32 = np.dtype([(\"qint32\", np.int32, 1)])\n",
      "/home/livia/citation-needed-paper/venv/lib/python3.5/site-packages/tensorflow/python/framework/dtypes.py:526: FutureWarning: Passing (type, 1) or '1type' as a synonym of type is deprecated; in a future version of numpy, it will be understood as (type, (1,)) / '(1,)type'.\n",
      "  np_resource = np.dtype([(\"resource\", np.ubyte, 1)])\n"
     ]
    },
    {
     "data": {
      "text/plain": [
       "'1.7.0'"
      ]
     },
     "execution_count": 1,
     "metadata": {},
     "output_type": "execute_result"
    }
   ],
   "source": [
    "import tensorflow \n",
    "tensorflow.__version__"
   ]
  },
  {
   "cell_type": "code",
   "execution_count": 3,
   "metadata": {},
   "outputs": [],
   "source": [
    "p_wiki = wiki_wiki.page(\"RM (rapper)\")"
   ]
  },
  {
   "cell_type": "code",
   "execution_count": 3,
   "metadata": {},
   "outputs": [],
   "source": [
    "organized_text = []\n",
    "\n",
    "for s in p_wiki.sections:\n",
    "    organized_text.append((s.title, sent_detector.tokenize(s.text.strip())))"
   ]
  },
  {
   "cell_type": "code",
   "execution_count": 4,
   "metadata": {
    "scrolled": true
   },
   "outputs": [
    {
     "data": {
      "text/plain": [
       "[('Early life',\n",
       "  ['Kim Nam-joon was born on September 12, 1994, in Dongjak-gu, South Korea, and grew up in Ilsan-gu, where his family moved when he was five.',\n",
       "   'He is the elder of two siblings and has a younger sister.As a child, RM largely learned English through watching Friends with his mother.',\n",
       "   'As a student, he actively wrote poetry and often received awards for his writings.',\n",
       "   'He posted his work to an online poetry website for roughly one year, where he received moderate attention.',\n",
       "   'Through this, RM grew interested in pursuing a literary career but decided against it.',\n",
       "   'At the age of 11, RM became interested in hip-hop music after hearing Epik High\\'s \"Fly\" in fifth grade.',\n",
       "   'He found that the song had provided him comfort, and, due to this, decided to look further into the genre.',\n",
       "   'Following an introduction to American rapper Eminem by his school teacher, RM grew interested in lyricism, printing lyrics he felt were \"cool\" and sharing them with his friends.',\n",
       "   'RM transitioned to writing lyrics then, stating that his poetry became lyrics when it combined with music.',\n",
       "   'In 2007, as a first year middle school student, RM began rapping in local amateur hip-hop circles, creating his first self-composed recording for the first time using the program Adobe Audition (then called Cool Edit).',\n",
       "   'He later participated in his first concert in 2008.',\n",
       "   'RM eventually became more active in the underground Korean hip-hop scene under the moniker \"Runch Randa\", releasing a number of tracks and collaborations with other underground rappers, such as Zico.In school, RM scored in the top 1% of the nation in the university entrance examinations for language, math, foreign language and social studies and had an IQ of 148.',\n",
       "   \"RM's parents were strongly opposed to his interest in a musical career due to his academic achievements, and initially RM decided to set music aside to focus on his studies.\",\n",
       "   'In order to convince his mother to allow him to be a rapper, he asked her if \"she wanted to have a son who was a first-place rapper, or a 5,000th-place student\".']),\n",
       " ('Name',\n",
       "  ['RM selected the name \"Rap Monster\" during his time as an idol trainee.',\n",
       "   'Though commonly misunderstood that the name means that he \"raps like a monster\", it actually derives from the lyrics of a song he wrote, inspired by San E\\'s \"Rap Genius\".',\n",
       "   'The lyrics contained a segment where San E declares he should be called a \"rap monster\" as he \"raps non-stop\".',\n",
       "   'He adopted the stage name because he felt it was \"cool\".',\n",
       "   'RM has described himself as having a love-hate relationship with the name, feeling that it was not selected for being of \"incredible value\" to him.He formally changed his stage name to \"RM\" in November 2017, as he determined that \"Rap Monster\" was no longer representative of who he was or the music that he creates.',\n",
       "   'In an interview with Entertainment Tonight RM stated that \"[the name] could symbolize many things.',\n",
       "   'It could have more spectrums to it.\"',\n",
       "   '\"Real Me\" was provided as a possible current meaning.']),\n",
       " ('Career', []),\n",
       " ('Artistry',\n",
       "  ['In 2017, American hip-hop magazine XXL released a list entitled \"10 Korean Rappers You Should Know\", which included RM.',\n",
       "   'Writer Peter A. Berry promises that \"Rap Monster rarely fails to live up to his name.\"',\n",
       "   'He describes the young star as \"one of the region’s most dexterous rappers, capable of switching flows effortlessly as he glides across an array of diverse instrumentals.',\n",
       "   '\"Critics stated his first mixtape \"takes listeners on a roller coaster narrative of confidence and uncertainty that comes with self-discovery.\"',\n",
       "   'Crystal Tai from South China Morning Post stated RM received a lot of praise for his natural flow and lyrics and that he\\'s got some \"My Beautiful Dark Twisted Fantasy mixed with Earl Sweatshirt and Chance the Rapper\" in him.']),\n",
       " ('Discography', ['Mixtapes\\n\\nRM (2015)\\nMono (2018)']),\n",
       " ('Filmography', []),\n",
       " ('References', []),\n",
       " ('External links', ['Media related to RM at Wikimedia Commons'])]"
      ]
     },
     "execution_count": 4,
     "metadata": {},
     "output_type": "execute_result"
    }
   ],
   "source": [
    "organized_text"
   ]
  },
  {
   "cell_type": "code",
   "execution_count": 3,
   "metadata": {},
   "outputs": [],
   "source": [
    "def construct_instance_reasons(statement, section_dict_path, vocab_w2v_path, max_len=-1):\n",
    "    # Load the vocabulary\n",
    "    vocab_w2v = pickle.load(open(vocab_w2v_path, 'rb'),encoding='latin1')\n",
    "\n",
    "    # load the section dictionary.\n",
    "    section_dict = pickle.load(open(section_dict_path, 'rb'))\n",
    "\n",
    "    # construct the training data\n",
    "    X = []\n",
    "    sections = []\n",
    "    y = []\n",
    "    outstring=[]\n",
    "    \n",
    "    X_inst = []\n",
    "\n",
    "    for word in statement:\n",
    "        if max_len != -1 and len(X_inst) >= max_len:\n",
    "            continue\n",
    "        if word not in vocab_w2v:\n",
    "            X_inst.append(vocab_w2v['UNK'])\n",
    "        else:\n",
    "            X_inst.append(vocab_w2v[word])\n",
    "\n",
    "    # extract the section, and in case the section does not exist in the model, then assign UNK\n",
    "    section = statement.strip().lower()\n",
    "    sections.append(np.array([section_dict[section] if section in section_dict else 0]))\n",
    "\n",
    "    X.append(X_inst)\n",
    "    outstring.append(statement)\n",
    "    #entity_id  revision_id timestamp   entity_title    section_id  section prg_idx sentence_idx    statement   citations\n",
    "\n",
    "    X = pad_sequences(X, maxlen=max_len, value=vocab_w2v['UNK'], padding='pre')\n",
    "\n",
    "    return X, np.array(sections), outstring"
   ]
  },
  {
   "cell_type": "code",
   "execution_count": 5,
   "metadata": {},
   "outputs": [],
   "source": [
    "path_model = \"models/fa_en_model_rnn_attention_section.h5\"\n",
    "model = load_model(path_model)\n",
    "\n",
    "# load the data\n",
    "max_seq_length = model.input[0].shape[1].value\n",
    "\n",
    "X, sections, outstring =construct_instance_reasons(\"Students receiving high marks in their Honours program have the option of continuing to candidature of a Doctoral program, such as Doctor of Philosophy, without having to complete a master's degree.\", \"embeddings/word_dict_en.pck\", \"embeddings/section_dict_en.pck\", max_seq_length)"
   ]
  },
  {
   "cell_type": "code",
   "execution_count": 6,
   "metadata": {},
   "outputs": [],
   "source": [
    "pred = model.predict([X, sections])"
   ]
  },
  {
   "cell_type": "code",
   "execution_count": 7,
   "metadata": {},
   "outputs": [
    {
     "data": {
      "text/plain": [
       "array([[9.9985206e-01, 1.4628991e-04]], dtype=float32)"
      ]
     },
     "execution_count": 7,
     "metadata": {},
     "output_type": "execute_result"
    }
   ],
   "source": [
    "pred"
   ]
  }
 ],
 "metadata": {
  "kernelspec": {
   "display_name": "Python 3",
   "language": "python",
   "name": "python3"
  },
  "language_info": {
   "codemirror_mode": {
    "name": "ipython",
    "version": 3
   },
   "file_extension": ".py",
   "mimetype": "text/x-python",
   "name": "python",
   "nbconvert_exporter": "python",
   "pygments_lexer": "ipython3",
   "version": "3.5.2"
  }
 },
 "nbformat": 4,
 "nbformat_minor": 2
}
