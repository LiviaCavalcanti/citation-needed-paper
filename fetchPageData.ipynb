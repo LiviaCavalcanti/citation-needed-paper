{
 "cells": [
  {
   "cell_type": "code",
   "execution_count": 1,
   "metadata": {},
   "outputs": [
    {
     "name": "stderr",
     "output_type": "stream",
     "text": [
      "Using TensorFlow backend.\n"
     ]
    }
   ],
   "source": [
    "import wikipediaapi\n",
    "import nltk\n",
    "import pickle \n",
    "import numpy as np\n",
    "from keras.preprocessing.sequence import pad_sequences\n",
    "from keras.models import load_model\n",
    "import tensorflow \n",
    "\n",
    "# nltk.download('punkt') # at first run\n",
    "sent_detector = nltk.data.load('tokenizers/punkt/english.pickle')\n",
    "\n",
    "wiki_wiki = wikipediaapi.Wikipedia(\n",
    "        language='en',\n",
    "        extract_format=wikipediaapi.ExtractFormat.WIKI\n",
    ")"
   ]
  },
  {
   "cell_type": "code",
   "execution_count": 17,
   "metadata": {},
   "outputs": [],
   "source": [
    "def construct_instance_reasons(statement, section_dict_path, vocab_w2v_path, max_len=-1):\n",
    "    # Load the vocabulary\n",
    "    vocab_w2v = pickle.load(open(vocab_w2v_path, 'rb'),encoding='latin1')\n",
    "\n",
    "    # load the section dictionary.\n",
    "    section_dict = pickle.load(open(section_dict_path, 'rb'))\n",
    "\n",
    "    # construct the training data\n",
    "    X = []\n",
    "    sections = []\n",
    "    y = []\n",
    "    outstring=[]\n",
    "    \n",
    "    X_inst = []\n",
    "\n",
    "    for word in statement:\n",
    "        if max_len != -1 and len(X_inst) >= max_len:\n",
    "            continue\n",
    "        if word not in vocab_w2v:\n",
    "            X_inst.append(vocab_w2v['UNK'])\n",
    "        else:\n",
    "            X_inst.append(vocab_w2v[word])\n",
    "\n",
    "    # extract the section, and in case the section does not exist in the model, then assign UNK\n",
    "    section = statement.strip().lower()\n",
    "    sections.append(np.array([section_dict[section] if section in section_dict else 0]))\n",
    "\n",
    "    X.append(X_inst)\n",
    "    outstring.append(statement)\n",
    "    #entity_id  revision_id timestamp   entity_title    section_id  section prg_idx sentence_idx    statement   citations\n",
    "\n",
    "    X = pad_sequences(X, maxlen=max_len, value=vocab_w2v['UNK'], padding='pre')\n",
    "\n",
    "    return X, np.array(sections), outstring"
   ]
  },
  {
   "cell_type": "code",
   "execution_count": 48,
   "metadata": {},
   "outputs": [],
   "source": [
    "def get_title_text(section, title):\n",
    "    if len(section.sections) == 0:\n",
    "        title.append(section.title)\n",
    "        if section.text != '':\n",
    "            return [(title,phrase) for phrase in sent_detector.tokenize(section.text.strip())]\n",
    "        else:\n",
    "            return []\n",
    "    \n",
    "    result = []\n",
    "    title.append(section.title)\n",
    "    for subsection in section.sections:\n",
    "        t = title.copy()\n",
    "        response = get_title_text(subsection, t)\n",
    "        if len(response) > 0:\n",
    "            result += response\n",
    "    \n",
    "    return result\n",
    "    "
   ]
  },
  {
   "cell_type": "code",
   "execution_count": 60,
   "metadata": {},
   "outputs": [],
   "source": [
    "# p_wiki = wiki_wiki.page(\"RM (rapper)\")\n",
    "# f_wiki = wiki_wiki.page(\"Fungus\")\n",
    "# path_model = \"models/fa_en_model_rnn_attention_section.h5\"\n",
    "# model = load_model(path_model)\n",
    "h_wiki =  wiki_wiki.page(\"Hesse\")\n",
    "phrases_by_section = get_title_text(h_wiki,[])"
   ]
  },
  {
   "cell_type": "code",
   "execution_count": 61,
   "metadata": {},
   "outputs": [],
   "source": [
    "predictions_text = []\n",
    "max_seq_length = model.input[0].shape[1].value\n",
    "\n",
    "for section, phrase in phrases_by_section:\n",
    "    X, sections, outstring = construct_instance_reasons(phrase, \"embeddings/word_dict_en.pck\", \"embeddings/section_dict_en.pck\", max_seq_length)\n",
    "    pred = model.predict([X, sections])\n",
    "    predictions_text.append((pred, phrase))"
   ]
  },
  {
   "cell_type": "code",
   "execution_count": 55,
   "metadata": {},
   "outputs": [
    {
     "data": {
      "text/plain": [
       "(array([[0, 0, 0, 0, 0, 0, 0, 0, 0, 0, 0, 0, 0, 0, 0, 0, 0, 0, 0, 0, 0, 0,\n",
       "         0, 0, 0, 0, 0, 0, 0, 0, 0, 0, 0, 0, 0, 0, 0, 0, 0, 0, 0, 0, 0, 0,\n",
       "         0, 0, 0, 0, 0, 0, 0, 0, 0, 0, 0, 0, 0, 0, 0, 0, 0, 0, 0, 0, 0, 0,\n",
       "         0, 0, 0, 0, 0, 0, 0, 0, 0, 0, 0, 0, 0, 0, 0, 0, 0, 0, 0, 0, 0, 0,\n",
       "         0, 0, 0, 0, 0, 0, 0, 0, 0, 0, 0, 0, 0, 0, 0, 0, 0, 0, 0, 0, 0, 0,\n",
       "         0, 0, 0, 0, 0, 0, 0, 0, 0, 0, 0, 0, 0, 0, 0, 0, 0, 0, 0, 0, 0, 0,\n",
       "         0, 0, 0, 0, 0, 0, 0, 0, 0, 0, 0, 0, 0, 0, 0, 0, 0, 0, 0, 0, 0, 0,\n",
       "         0, 0, 0, 0, 0, 0, 0, 0, 0, 0, 0, 0, 0, 0, 0, 0, 0, 0, 0, 0, 0, 0,\n",
       "         0, 0, 0, 0, 0, 0, 0, 0, 0, 0, 0]], dtype=int32),\n",
       " array([[0]]),\n",
       " ['Compatible haploid hyphae fuse to produce a dikaryotic mycelium.'])"
      ]
     },
     "execution_count": 55,
     "metadata": {},
     "output_type": "execute_result"
    }
   ],
   "source": [
    "construct_instance_reasons(phrases_by_section[98][1], \"embeddings/word_dict_en.pck\", \"embeddings/section_dict_en.pck\", max_seq_length)"
   ]
  },
  {
   "cell_type": "code",
   "execution_count": 58,
   "metadata": {},
   "outputs": [
    {
     "data": {
      "text/plain": [
       "(array([[0, 0, 0, 0, 0, 0, 0, 0, 0, 0, 0, 0, 0, 0, 0, 0, 0, 0, 0, 0, 0, 0,\n",
       "         0, 0, 0, 0, 0, 0, 0, 0, 0, 0, 0, 0, 0, 0, 0, 0, 0, 0, 0, 0, 0, 0,\n",
       "         0, 0, 0, 0, 0, 0, 0, 0, 0, 0, 0, 0, 0, 0, 0, 0, 0, 0, 0, 0, 0, 0,\n",
       "         0, 0, 0, 0, 0, 0, 0, 0, 0, 0, 0, 0, 0, 0, 0, 0, 0, 0, 0, 0, 0, 0,\n",
       "         0, 0, 0, 0, 0, 0, 0, 0, 0, 0, 0, 0, 0, 0, 0, 0, 0, 0, 0, 0, 0, 0,\n",
       "         0, 0, 0, 0, 0, 0, 0, 0, 0, 0, 0, 0, 0, 0, 0, 0, 0, 0, 0, 0, 0, 0,\n",
       "         0, 0, 0, 0, 0, 0, 0, 0, 0, 0, 0, 0, 0, 0, 0, 0, 0, 0, 0, 0, 0, 0,\n",
       "         0, 0, 0, 0, 0, 0, 0, 0, 0, 0, 0, 0, 0, 0, 0, 0, 0, 0, 0, 0, 0, 0,\n",
       "         0, 0, 0, 0, 0, 0, 0, 0, 0, 0, 0]], dtype=int32),\n",
       " array([[0]]),\n",
       " ['The track \"Seoul\" was produced by British electropop duo Honne.'])"
      ]
     },
     "execution_count": 58,
     "metadata": {},
     "output_type": "execute_result"
    }
   ],
   "source": [
    "construct_instance_reasons(phrases_by_section[60][1], \"embeddings/word_dict_en.pck\", \"embeddings/section_dict_en.pck\", max_seq_length)"
   ]
  },
  {
   "cell_type": "code",
   "execution_count": 67,
   "metadata": {},
   "outputs": [],
   "source": [
    "predictions_text.sort(key=lambda tup: tup[0][0][0]) "
   ]
  }
 ],
 "metadata": {
  "kernelspec": {
   "display_name": "Python 3",
   "language": "python",
   "name": "python3"
  },
  "language_info": {
   "codemirror_mode": {
    "name": "ipython",
    "version": 3
   },
   "file_extension": ".py",
   "mimetype": "text/x-python",
   "name": "python",
   "nbconvert_exporter": "python",
   "pygments_lexer": "ipython3",
   "version": "3.6.8"
  }
 },
 "nbformat": 4,
 "nbformat_minor": 2
}
